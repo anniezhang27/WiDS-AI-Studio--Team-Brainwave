{
  "cells": [
    {
      "cell_type": "code",
      "execution_count": null,
      "metadata": {
        "id": "qOw9xKQQxZFH"
      },
      "outputs": [],
      "source": [
        "import numpy as np\n",
        "import pandas as pd\n",
        "import seaborn as sns\n",
        "\n",
        "import os\n",
        "import torch\n",
        "import torch_geometric\n",
        "import torch_scatter\n",
        "import torch_sparse\n",
        "import torch_cluster\n",
        "import torch_spline_conv\n",
        "import networkx as nx\n",
        "\n",
        "import matplotlib.pyplot as plt\n",
        "\n",
        "import sklearn\n",
        "from sklearn.svm import SVC\n",
        "from sklearn.metrics import balanced_accuracy_score, roc_auc_score, accuracy_score, confusion_matrix, roc_curve\n",
        "from scipy.stats import zscore, pearsonr, uniform\n",
        "from sklearn.model_selection import KFold, StratifiedKFold, RandomizedSearchCV\n",
        "\n",
        "from scipy.io import loadmat\n",
        "\n",
        "from sklearn.model_selection import train_test_split\n",
        "from sklearn.preprocessing import StandardScaler\n",
        "from sklearn.metrics import roc_auc_score\n",
        "from sklearn.metrics import accuracy_score\n"
      ]
    },
    {
      "cell_type": "markdown",
      "metadata": {
        "id": "p_3wiDFz1_Vu"
      },
      "source": [
        "# **Load in Data Frames**"
      ]
    },
    {
      "cell_type": "code",
      "execution_count": null,
      "metadata": {
        "id": "HFQIBPiFwYQe"
      },
      "outputs": [],
      "source": [
        "# categorical variable dataframe\n",
        "\n",
        "file_path_trainC = \"/content/drive/My Drive/data csv/TRAIN_CATEGORICAL.csv\"\n",
        "df1 = pd.read_csv(file_path_trainC)\n"
      ]
    },
    {
      "cell_type": "code",
      "execution_count": null,
      "metadata": {
        "colab": {
          "base_uri": "https://localhost:8080/",
          "height": 226
        },
        "id": "F62OH1yO1dsT",
        "outputId": "1ce38e36-b319-4b0e-f71f-9d9872dd72bd"
      },
      "outputs": [],
      "source": [
        "train_cat = pd.read_csv(file_path_trainC)\n",
        "train_cat.head()"
      ]
    },
    {
      "cell_type": "code",
      "execution_count": null,
      "metadata": {
        "colab": {
          "base_uri": "https://localhost:8080/"
        },
        "id": "MQI4vOpo11RY",
        "outputId": "36067912-1363-47cc-bc97-7fcf51ebf23d"
      },
      "outputs": [],
      "source": [
        "train_cat.columns"
      ]
    },
    {
      "cell_type": "code",
      "execution_count": null,
      "metadata": {
        "id": "He2i-_Uk2QLo"
      },
      "outputs": [],
      "source": [
        "# Functional Connection Matrices\n",
        "\n",
        "file_path_trainFCM = \"/content/drive/My Drive/data csv/TRAIN_FUNCTIONAL_CONNECTOME_MATRICES.csv\"\n",
        "df2 = pd.read_csv(file_path_trainC)"
      ]
    },
    {
      "cell_type": "code",
      "execution_count": null,
      "metadata": {
        "id": "m63esfRY3z3U"
      },
      "outputs": [],
      "source": [
        "train_FCM = pd.read_csv(file_path_trainFCM)"
      ]
    },
    {
      "cell_type": "code",
      "execution_count": null,
      "metadata": {
        "colab": {
          "base_uri": "https://localhost:8080/",
          "height": 255
        },
        "id": "GHbgHHZlz26Q",
        "outputId": "3cac668c-7d9e-472a-96dc-21acd3b57740"
      },
      "outputs": [],
      "source": [
        "train_FCM.head()"
      ]
    },
    {
      "cell_type": "code",
      "execution_count": null,
      "metadata": {
        "colab": {
          "base_uri": "https://localhost:8080/"
        },
        "id": "kCq0AjKTZ-Lg",
        "outputId": "97817cbf-7b5c-4331-9c82-8f1fd616c1c0"
      },
      "outputs": [],
      "source": [
        "train_FCM.columns"
      ]
    },
    {
      "cell_type": "code",
      "execution_count": null,
      "metadata": {
        "colab": {
          "base_uri": "https://localhost:8080/"
        },
        "id": "ntNIdD884eiC",
        "outputId": "c1f9ad9d-52e2-49d9-f7fb-15d7be57a86d"
      },
      "outputs": [],
      "source": [
        "print(train_FCM)"
      ]
    },
    {
      "cell_type": "markdown",
      "metadata": {
        "id": "RUICVFU8I5ul"
      },
      "source": [
        "## Preprocess FCM to feed into GNN"
      ]
    },
    {
      "cell_type": "code",
      "execution_count": null,
      "metadata": {
        "colab": {
          "base_uri": "https://localhost:8080/"
        },
        "id": "pojI3vOAI4oA",
        "outputId": "d21c5ad3-f8ed-471f-a558-b23e00b96683"
      },
      "outputs": [],
      "source": [
        "train_FCM = train_FCM.drop(columns=['participant_id'])\n",
        "\n",
        "def vector_to_adjacency(vector):\n",
        "    #Converts a vector to an adjacency matrix\n",
        "\n",
        "    adj_matrix = np.zeros((200, 200))\n",
        "\n",
        "    # Fill the lower triangle of the matrix\n",
        "    triu_indices = np.triu_indices(200, k=1)\n",
        "    adj_matrix[triu_indices] = vector\n",
        "    adj_matrix += adj_matrix.T  # Make it symmetric\n",
        "\n",
        "    return adj_matrix\n",
        "\n",
        "adj_matrices = np.array([vector_to_adjacency(row) for row in train_FCM.to_numpy()])\n",
        "print(adj_matrices.shape)"
      ]
    },
    {
      "cell_type": "code",
      "execution_count": null,
      "metadata": {
        "colab": {
          "base_uri": "https://localhost:8080/"
        },
        "id": "eboxRM4dbSSl",
        "outputId": "e4920c2b-5434-4591-af0b-0b64591aa6de"
      },
      "outputs": [],
      "source": [
        "def adjacency_to_edge_list(adj_matrix, threshold=0.1):\n",
        "    edge_index = np.array(np.where(adj_matrix > threshold))  # Only keep strong edges, helps with multicollinearity?\n",
        "    edge_weight = adj_matrix[edge_index[0], edge_index[1]]\n",
        "\n",
        "    return torch.tensor(edge_index, dtype=torch.long), torch.tensor(edge_weight, dtype=torch.float)\n",
        "\n",
        "edge_data = [adjacency_to_edge_list(adj) for adj in adj_matrices]\n",
        "\n",
        "#unpack weights and indices\n",
        "edge_indices = [data[0] for data in edge_data]\n",
        "edge_weights = [data[1] for data in edge_data]\n",
        "\n",
        "print(edge_indices[0].shape) #shape will have two rows for source and target nodes\n",
        "print(edge_weights[0].shape)"
      ]
    },
    {
      "cell_type": "code",
      "execution_count": null,
      "metadata": {
        "colab": {
          "base_uri": "https://localhost:8080/"
        },
        "id": "4zCHbkJoffkB",
        "outputId": "3f4e7de6-f5c1-4ed7-abf4-82eae3e9260d"
      },
      "outputs": [],
      "source": [
        "#convert all edge lists to graph objects\n",
        "graphs = [torch_geometric.data.Data(x=torch.eye(200), edge_index=e_idx, edge_attr=e_wt)\n",
        "          for e_idx, e_wt in zip(edge_indices, edge_weights)]\n",
        "\n",
        "print(graphs[0])"
      ]
    },
    {
      "cell_type": "code",
      "execution_count": null,
      "metadata": {
        "colab": {
          "base_uri": "https://localhost:8080/",
          "height": 711
        },
        "id": "tAKMaS64gOY9",
        "outputId": "0e8fb739-1cf1-4c50-cbca-1d8b303d19a3"
      },
      "outputs": [],
      "source": [
        "#validate conversions\n",
        "\n",
        "sample_adj_matrix = adj_matrices[0]\n",
        "\n",
        "# Plot heatmap\n",
        "plt.figure(figsize=(10, 8))\n",
        "sns.heatmap(sample_adj_matrix, cmap=\"viridis\", square=True)\n",
        "plt.title(\"Adj Matrix Heatmap\")\n",
        "plt.show()\n"
      ]
    },
    {
      "cell_type": "code",
      "execution_count": null,
      "metadata": {
        "colab": {
          "base_uri": "https://localhost:8080/",
          "height": 659
        },
        "id": "6fOr3PuOgnGP",
        "outputId": "4e5a62cb-9a15-4a82-e9bb-70d066b38f28"
      },
      "outputs": [],
      "source": [
        "def visualize_graph(edge_index, title=\"Graph Visualization\", node_limit=50):\n",
        "    \"\"\"\n",
        "    Plots a NetworkX graph based on edge_index.\n",
        "    \"\"\"\n",
        "    G = nx.Graph()\n",
        "    edges = edge_index.numpy().T\n",
        "\n",
        "    G.add_edges_from(edges[:node_limit])\n",
        "\n",
        "    plt.figure(figsize=(8, 6))\n",
        "    nx.draw(G, node_size=50, with_labels=False, edge_color=\"blue\")\n",
        "    plt.title(title)\n",
        "    plt.show()\n",
        "\n",
        "# graph first participant's graph\n",
        "visualize_graph(edge_indices[0])"
      ]
    },
    {
      "cell_type": "code",
      "execution_count": null,
      "metadata": {
        "colab": {
          "base_uri": "https://localhost:8080/",
          "height": 226
        },
        "id": "FVgmqWPVa1wG",
        "outputId": "ed074cc9-cb10-4873-ffe7-edb3e974716b"
      },
      "outputs": [],
      "source": [
        "# Quantitative variable train dataframe\n",
        "\n",
        "file_path_trainQ = '/content/drive/My Drive/data csv/TRAIN_QUANTITATIVE.csv'\n",
        "train_Quant = pd.read_csv(file_path_trainQ)\n",
        "train_Quant.head()"
      ]
    },
    {
      "cell_type": "code",
      "execution_count": null,
      "metadata": {
        "colab": {
          "base_uri": "https://localhost:8080/"
        },
        "id": "ayQd0ssPbJbq",
        "outputId": "01740369-b36f-4a9b-ac31-8c7c65b93798"
      },
      "outputs": [],
      "source": [
        "train_Quant.columns"
      ]
    },
    {
      "cell_type": "code",
      "execution_count": null,
      "metadata": {
        "colab": {
          "base_uri": "https://localhost:8080/",
          "height": 206
        },
        "id": "8OimvlvVbK9G",
        "outputId": "5d70691b-115f-4e06-f3ac-18cf9b30dd8f"
      },
      "outputs": [],
      "source": [
        "# ADHD and Sex solutions dataframe for model training\n",
        "\n",
        "file_path_trainS = '/content/drive/My Drive/data csv/TRAINING_SOLUTIONS.csv'\n",
        "train_Solutions = pd.read_csv(file_path_trainS)\n",
        "train_Solutions.head()"
      ]
    },
    {
      "cell_type": "code",
      "execution_count": null,
      "metadata": {
        "colab": {
          "base_uri": "https://localhost:8080/"
        },
        "id": "feF212ubc4Rb",
        "outputId": "b070b841-c46f-4f0f-8156-00fe6786cf4c"
      },
      "outputs": [],
      "source": [
        "train_Solutions.columns"
      ]
    },
    {
      "cell_type": "markdown",
      "metadata": {
        "id": "GaM85fYzdKh-"
      },
      "source": [
        "# **Exploratory Data Analysis**"
      ]
    },
    {
      "cell_type": "markdown",
      "metadata": {
        "id": "SZFrJtqpdQo0"
      },
      "source": [
        "Use .info() and .describe() to summarize each dataset."
      ]
    },
    {
      "cell_type": "code",
      "execution_count": null,
      "metadata": {
        "colab": {
          "base_uri": "https://localhost:8080/"
        },
        "id": "r9hFK909dNCV",
        "outputId": "ce451668-d027-4a8f-960d-f2cdb20f3444"
      },
      "outputs": [],
      "source": [
        "train_cat.info()"
      ]
    },
    {
      "cell_type": "markdown",
      "metadata": {
        "id": "Q-mF0uWgeb7D"
      },
      "source": [
        "Understand the distribution of the categorical variables with .value_counts()."
      ]
    },
    {
      "cell_type": "code",
      "execution_count": null,
      "metadata": {
        "colab": {
          "base_uri": "https://localhost:8080/",
          "height": 429
        },
        "id": "XB3DyBuzefHU",
        "outputId": "d5ea04c4-50ee-453f-b194-3dc3a1628d75"
      },
      "outputs": [],
      "source": [
        "# Barratt_Barratt_P2_Occ - Barratt Simplified Measure of Social Status - Parent 2 Occupation\n",
        "train_cat['Barratt_Barratt_P2_Occ'].value_counts()\n",
        "\n",
        "# look back at the dictionary to see what category these integers [0, 45, 35] represent."
      ]
    },
    {
      "cell_type": "markdown",
      "metadata": {
        "id": "vr8UWB0Kg4Lt"
      },
      "source": [
        "Notice the parent 2 occupation with the most frequency is 0: homemaker, stay at home parent."
      ]
    },
    {
      "cell_type": "markdown",
      "metadata": {
        "id": "4lgCDXEHg_wV"
      },
      "source": [
        "**Visualize distributions:**"
      ]
    },
    {
      "cell_type": "code",
      "execution_count": null,
      "metadata": {
        "colab": {
          "base_uri": "https://localhost:8080/",
          "height": 480
        },
        "id": "bUwoCt4VhBVP",
        "outputId": "a9290503-c29f-4a80-bfec-815c920ea498"
      },
      "outputs": [],
      "source": [
        "sns.countplot(x='Barratt_Barratt_P2_Occ', data=train_cat[['Barratt_Barratt_P2_Occ']])\n",
        "plt.title(f\"Distribution of Barratt_Barratt_P2_Occ\")\n",
        "plt.xticks(rotation=45)\n",
        "plt.show()"
      ]
    },
    {
      "cell_type": "code",
      "execution_count": null,
      "metadata": {
        "id": "afdduq9Lh3-i"
      },
      "outputs": [],
      "source": []
    },
    {
      "cell_type": "code",
      "execution_count": null,
      "metadata": {
        "colab": {
          "base_uri": "https://localhost:8080/",
          "height": 633
        },
        "id": "BIMSZmpLh3_g",
        "outputId": "c2c368bf-5ae5-4b50-b473-9cdbb53d9d4e"
      },
      "outputs": [],
      "source": [
        "# Distribution of MRI_Track_Age_at_Scan\n",
        "train_Quant['MRI_Track_Age_at_Scan'].hist(figsize=(12, 10), bins=20)\n",
        "plt.suptitle(\"MRI_Track_Age_at_Scan Distributions\")\n",
        "plt.xlabel('MRI_Track_Age_at_Scan')\n",
        "plt.ylabel('Frequency Count')\n",
        "plt.show()"
      ]
    },
    {
      "cell_type": "code",
      "execution_count": null,
      "metadata": {
        "colab": {
          "base_uri": "https://localhost:8080/",
          "height": 178
        },
        "id": "wp5Ya0Lqia33",
        "outputId": "4c4c43e2-3442-4595-a8e4-5604441d8780"
      },
      "outputs": [],
      "source": [
        "# Gender distribution\n",
        "train_Solutions['Sex_F'].value_counts()"
      ]
    },
    {
      "cell_type": "code",
      "execution_count": null,
      "metadata": {
        "colab": {
          "base_uri": "https://localhost:8080/",
          "height": 467
        },
        "id": "3tFW_2Niigq8",
        "outputId": "bf3206db-878e-43a7-bce6-262e29b60d51"
      },
      "outputs": [],
      "source": [
        "train_Solutions['Sex_F'].value_counts().plot(kind='bar', color='blue')\n",
        "plt.title('Gender Distribution')\n",
        "plt.xlabel('Gender (0 = Male, 1 = Female)')\n",
        "plt.ylabel('Count')\n",
        "plt.show()"
      ]
    }
  ],
  "metadata": {
    "colab": {
      "provenance": []
    },
    "kernelspec": {
      "display_name": "Python 3",
      "name": "python3"
    },
    "language_info": {
      "name": "python"
    }
  },
  "nbformat": 4,
  "nbformat_minor": 0
}
